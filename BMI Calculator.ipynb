{
 "cells": [
  {
   "cell_type": "markdown",
   "id": "e5566246",
   "metadata": {},
   "source": [
    "# BMI Calculator"
   ]
  },
  {
   "cell_type": "code",
   "execution_count": 4,
   "id": "a6d83092",
   "metadata": {},
   "outputs": [],
   "source": [
    "# Defining function for calculating bmi\n",
    "def bmi_calc(bmi,name):\n",
    "    if bmi <= 18.4:\n",
    "        print(name + \" , you are Underweight\")\n",
    "    elif bmi <= 29.1:\n",
    "        print(name + \" , you are Normal\")\n",
    "    elif bmi <= 39.9:\n",
    "        print(name + \" , you are Overweight\")\n",
    "    elif bmi >=40.0:\n",
    "        print(name + \" , you are Obese\")\n",
    "    else: \n",
    "        print(\"Invalid\")"
   ]
  },
  {
   "cell_type": "code",
   "execution_count": 5,
   "id": "f9e09e1e",
   "metadata": {},
   "outputs": [
    {
     "name": "stdout",
     "output_type": "stream",
     "text": [
      "Enter your name: Nandhini\n",
      "Enter your weight in kg: 63\n",
      "Enter your height: feet- 5\n",
      "inches- 4\n",
      "BMI=  23.8\n",
      "Nandhini , you are Normal\n"
     ]
    }
   ],
   "source": [
    "# Getting Details\n",
    "name = input(\"Enter your name: \")\n",
    "weight = int(input(\"Enter your weight in kg: \"))\n",
    "height_feet = int(input(\"Enter your height: feet- \"))\n",
    "height_inch = int(input(\"inches- \"))\n",
    "height_m = height_feet*0.3048 + height_inch*0.0254\n",
    "bmi = round(weight / height_m**2, 1)\n",
    "print(\"BMI= \",+bmi)\n",
    "bmi_calc(bmi,name)\n"
   ]
  },
  {
   "cell_type": "code",
   "execution_count": null,
   "id": "7b102cf9",
   "metadata": {},
   "outputs": [],
   "source": []
  }
 ],
 "metadata": {
  "kernelspec": {
   "display_name": "Python 3 (ipykernel)",
   "language": "python",
   "name": "python3"
  },
  "language_info": {
   "codemirror_mode": {
    "name": "ipython",
    "version": 3
   },
   "file_extension": ".py",
   "mimetype": "text/x-python",
   "name": "python",
   "nbconvert_exporter": "python",
   "pygments_lexer": "ipython3",
   "version": "3.11.5"
  }
 },
 "nbformat": 4,
 "nbformat_minor": 5
}
