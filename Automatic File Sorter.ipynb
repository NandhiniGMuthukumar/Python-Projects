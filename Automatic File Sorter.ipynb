{
 "cells": [
  {
   "cell_type": "code",
   "execution_count": 24,
   "id": "7956daa6",
   "metadata": {},
   "outputs": [],
   "source": [
    "import os, shutil"
   ]
  },
  {
   "cell_type": "code",
   "execution_count": 27,
   "id": "0be7dcb1",
   "metadata": {},
   "outputs": [],
   "source": [
    "path = r\"/Users/mkshan/Documents/Nandhini/Source/\""
   ]
  },
  {
   "cell_type": "code",
   "execution_count": 37,
   "id": "17f84e92",
   "metadata": {},
   "outputs": [
    {
     "data": {
      "text/plain": [
       "['.DS_Store', 'pdf files', 'Image files', 'csv files']"
      ]
     },
     "execution_count": 37,
     "metadata": {},
     "output_type": "execute_result"
    }
   ],
   "source": [
    "file_name = os.listdir(path)\n",
    "file_name"
   ]
  },
  {
   "cell_type": "code",
   "execution_count": 36,
   "id": "17910d21",
   "metadata": {},
   "outputs": [],
   "source": [
    "folder_names = [\"csv files\", \"Image files\", \"pdf files\"]\n",
    "for i in range(len(folder_names)):\n",
    "    if not os.path.exists(path+folder_names[i]):\n",
    "        os.makedirs(path+folder_names[i])\n",
    "for file in file_name:\n",
    "    if \".csv\" in file and not os.path.exists(path+\"csv files/\"+file):\n",
    "        shutil.move(path+file, path+\"csv files/\"+file )\n",
    "    elif \".pdf\" in file and not os.path.exists(path+\"pdf files/\"+file):\n",
    "        shutil.move(path+file, path+\"pdf files/\"+file )\n",
    "    elif (\".png\" or \".jpg\" or \".jpeg\") in file and not os.path.exists(path+\"Image files/\"+file):\n",
    "        shutil.move(path+file, path+\"Image files/\"+file )"
   ]
  },
  {
   "cell_type": "code",
   "execution_count": 10,
   "id": "1d0f35cb",
   "metadata": {},
   "outputs": [],
   "source": []
  },
  {
   "cell_type": "code",
   "execution_count": null,
   "id": "2471d873",
   "metadata": {},
   "outputs": [],
   "source": []
  },
  {
   "cell_type": "code",
   "execution_count": null,
   "id": "2aeacc87",
   "metadata": {},
   "outputs": [],
   "source": []
  }
 ],
 "metadata": {
  "kernelspec": {
   "display_name": "Python 3 (ipykernel)",
   "language": "python",
   "name": "python3"
  },
  "language_info": {
   "codemirror_mode": {
    "name": "ipython",
    "version": 3
   },
   "file_extension": ".py",
   "mimetype": "text/x-python",
   "name": "python",
   "nbconvert_exporter": "python",
   "pygments_lexer": "ipython3",
   "version": "3.11.5"
  }
 },
 "nbformat": 4,
 "nbformat_minor": 5
}
